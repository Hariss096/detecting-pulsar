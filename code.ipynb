{
 "cells": [
  {
   "cell_type": "code",
   "execution_count": 4,
   "metadata": {
    "_cell_guid": "b1076dfc-b9ad-4769-8c92-a6c4dae69d19",
    "_uuid": "8f2839f25d086af736a60e9eeb907d3b93b6e0e5"
   },
   "outputs": [],
   "source": [
    "import numpy as np # linear algebra\n",
    "import pandas as pd # data processing, CSV file I/O (e.g. pd.read_csv)\n",
    "import matplotlib.pyplot as plt\n",
    "from sklearn.svm import SVC\n",
    "from sklearn.model_selection import train_test_split, GridSearchCV\n",
    "import numpy as np\n",
    "from sklearn.metrics import confusion_matrix, f1_score, accuracy_score, recall_score, precision_score, fbeta_score\n",
    "from sklearn.ensemble import RandomForestClassifier, VotingClassifier, GradientBoostingClassifier\n",
    "from scipy.stats import normaltest\n",
    "from sklearn.neighbors import KNeighborsClassifier\n",
    "from sklearn.neural_network import MLPClassifier\n",
    "from sklearn.preprocessing import StandardScaler\n",
    "from sklearn.linear_model import LogisticRegression, SGDClassifier"
   ]
  },
  {
   "cell_type": "markdown",
   "metadata": {},
   "source": [
    "**Data Understanding**"
   ]
  },
  {
   "cell_type": "code",
   "execution_count": 5,
   "metadata": {
    "_cell_guid": "79c7e3d0-c299-4dcb-8224-4455121ee9b0",
    "_uuid": "d629ff2d2480ee46fbb7e2d37f6b5fab8052498a"
   },
   "outputs": [],
   "source": [
    "pulsar_detection_data = pd.read_csv('pulsar_stars.csv')"
   ]
  },
  {
   "cell_type": "code",
   "execution_count": 6,
   "metadata": {},
   "outputs": [
    {
     "data": {
      "text/html": [
       "<div>\n",
       "<style scoped>\n",
       "    .dataframe tbody tr th:only-of-type {\n",
       "        vertical-align: middle;\n",
       "    }\n",
       "\n",
       "    .dataframe tbody tr th {\n",
       "        vertical-align: top;\n",
       "    }\n",
       "\n",
       "    .dataframe thead th {\n",
       "        text-align: right;\n",
       "    }\n",
       "</style>\n",
       "<table border=\"1\" class=\"dataframe\">\n",
       "  <thead>\n",
       "    <tr style=\"text-align: right;\">\n",
       "      <th></th>\n",
       "      <th>Mean of the integrated profile</th>\n",
       "      <th>Standard deviation of the integrated profile</th>\n",
       "      <th>Excess kurtosis of the integrated profile</th>\n",
       "      <th>Skewness of the integrated profile</th>\n",
       "      <th>Mean of the DM-SNR curve</th>\n",
       "      <th>Standard deviation of the DM-SNR curve</th>\n",
       "      <th>Excess kurtosis of the DM-SNR curve</th>\n",
       "      <th>Skewness of the DM-SNR curve</th>\n",
       "      <th>target_class</th>\n",
       "    </tr>\n",
       "  </thead>\n",
       "  <tbody>\n",
       "    <tr>\n",
       "      <td>0</td>\n",
       "      <td>140.562500</td>\n",
       "      <td>55.683782</td>\n",
       "      <td>-0.234571</td>\n",
       "      <td>-0.699648</td>\n",
       "      <td>3.199833</td>\n",
       "      <td>19.110426</td>\n",
       "      <td>7.975532</td>\n",
       "      <td>74.242225</td>\n",
       "      <td>0</td>\n",
       "    </tr>\n",
       "    <tr>\n",
       "      <td>1</td>\n",
       "      <td>102.507812</td>\n",
       "      <td>58.882430</td>\n",
       "      <td>0.465318</td>\n",
       "      <td>-0.515088</td>\n",
       "      <td>1.677258</td>\n",
       "      <td>14.860146</td>\n",
       "      <td>10.576487</td>\n",
       "      <td>127.393580</td>\n",
       "      <td>0</td>\n",
       "    </tr>\n",
       "    <tr>\n",
       "      <td>2</td>\n",
       "      <td>103.015625</td>\n",
       "      <td>39.341649</td>\n",
       "      <td>0.323328</td>\n",
       "      <td>1.051164</td>\n",
       "      <td>3.121237</td>\n",
       "      <td>21.744669</td>\n",
       "      <td>7.735822</td>\n",
       "      <td>63.171909</td>\n",
       "      <td>0</td>\n",
       "    </tr>\n",
       "    <tr>\n",
       "      <td>3</td>\n",
       "      <td>136.750000</td>\n",
       "      <td>57.178449</td>\n",
       "      <td>-0.068415</td>\n",
       "      <td>-0.636238</td>\n",
       "      <td>3.642977</td>\n",
       "      <td>20.959280</td>\n",
       "      <td>6.896499</td>\n",
       "      <td>53.593661</td>\n",
       "      <td>0</td>\n",
       "    </tr>\n",
       "    <tr>\n",
       "      <td>4</td>\n",
       "      <td>88.726562</td>\n",
       "      <td>40.672225</td>\n",
       "      <td>0.600866</td>\n",
       "      <td>1.123492</td>\n",
       "      <td>1.178930</td>\n",
       "      <td>11.468720</td>\n",
       "      <td>14.269573</td>\n",
       "      <td>252.567306</td>\n",
       "      <td>0</td>\n",
       "    </tr>\n",
       "  </tbody>\n",
       "</table>\n",
       "</div>"
      ],
      "text/plain": [
       "    Mean of the integrated profile  \\\n",
       "0                       140.562500   \n",
       "1                       102.507812   \n",
       "2                       103.015625   \n",
       "3                       136.750000   \n",
       "4                        88.726562   \n",
       "\n",
       "    Standard deviation of the integrated profile  \\\n",
       "0                                      55.683782   \n",
       "1                                      58.882430   \n",
       "2                                      39.341649   \n",
       "3                                      57.178449   \n",
       "4                                      40.672225   \n",
       "\n",
       "    Excess kurtosis of the integrated profile  \\\n",
       "0                                   -0.234571   \n",
       "1                                    0.465318   \n",
       "2                                    0.323328   \n",
       "3                                   -0.068415   \n",
       "4                                    0.600866   \n",
       "\n",
       "    Skewness of the integrated profile   Mean of the DM-SNR curve  \\\n",
       "0                            -0.699648                   3.199833   \n",
       "1                            -0.515088                   1.677258   \n",
       "2                             1.051164                   3.121237   \n",
       "3                            -0.636238                   3.642977   \n",
       "4                             1.123492                   1.178930   \n",
       "\n",
       "    Standard deviation of the DM-SNR curve  \\\n",
       "0                                19.110426   \n",
       "1                                14.860146   \n",
       "2                                21.744669   \n",
       "3                                20.959280   \n",
       "4                                11.468720   \n",
       "\n",
       "    Excess kurtosis of the DM-SNR curve   Skewness of the DM-SNR curve  \\\n",
       "0                              7.975532                      74.242225   \n",
       "1                             10.576487                     127.393580   \n",
       "2                              7.735822                      63.171909   \n",
       "3                              6.896499                      53.593661   \n",
       "4                             14.269573                     252.567306   \n",
       "\n",
       "   target_class  \n",
       "0             0  \n",
       "1             0  \n",
       "2             0  \n",
       "3             0  \n",
       "4             0  "
      ]
     },
     "execution_count": 6,
     "metadata": {},
     "output_type": "execute_result"
    }
   ],
   "source": [
    "pulsar_detection_data.head()"
   ]
  },
  {
   "cell_type": "code",
   "execution_count": 7,
   "metadata": {},
   "outputs": [
    {
     "data": {
      "text/plain": [
       "0    16259\n",
       "1     1639\n",
       "Name: target_class, dtype: int64"
      ]
     },
     "execution_count": 7,
     "metadata": {},
     "output_type": "execute_result"
    }
   ],
   "source": [
    "# Check for positive and negative cases of pulsar detection\n",
    "pulsar_detection_data['target_class'].value_counts()"
   ]
  },
  {
   "cell_type": "code",
   "execution_count": 8,
   "metadata": {},
   "outputs": [
    {
     "data": {
      "text/plain": [
       " Mean of the integrated profile                  float64\n",
       " Standard deviation of the integrated profile    float64\n",
       " Excess kurtosis of the integrated profile       float64\n",
       " Skewness of the integrated profile              float64\n",
       " Mean of the DM-SNR curve                        float64\n",
       " Standard deviation of the DM-SNR curve          float64\n",
       " Excess kurtosis of the DM-SNR curve             float64\n",
       " Skewness of the DM-SNR curve                    float64\n",
       "target_class                                       int64\n",
       "dtype: object"
      ]
     },
     "execution_count": 8,
     "metadata": {},
     "output_type": "execute_result"
    }
   ],
   "source": [
    "# types of features\n",
    "pulsar_detection_data.dtypes"
   ]
  },
  {
   "cell_type": "code",
   "execution_count": 9,
   "metadata": {},
   "outputs": [
    {
     "data": {
      "text/plain": [
       " Mean of the integrated profile                  0\n",
       " Standard deviation of the integrated profile    0\n",
       " Excess kurtosis of the integrated profile       0\n",
       " Skewness of the integrated profile              0\n",
       " Mean of the DM-SNR curve                        0\n",
       " Standard deviation of the DM-SNR curve          0\n",
       " Excess kurtosis of the DM-SNR curve             0\n",
       " Skewness of the DM-SNR curve                    0\n",
       "target_class                                     0\n",
       "dtype: int64"
      ]
     },
     "execution_count": 9,
     "metadata": {},
     "output_type": "execute_result"
    }
   ],
   "source": [
    "# check null values\n",
    "pulsar_detection_data.isnull().sum()"
   ]
  },
  {
   "cell_type": "code",
   "execution_count": 10,
   "metadata": {},
   "outputs": [
    {
     "data": {
      "text/html": [
       "<div>\n",
       "<style scoped>\n",
       "    .dataframe tbody tr th:only-of-type {\n",
       "        vertical-align: middle;\n",
       "    }\n",
       "\n",
       "    .dataframe tbody tr th {\n",
       "        vertical-align: top;\n",
       "    }\n",
       "\n",
       "    .dataframe thead th {\n",
       "        text-align: right;\n",
       "    }\n",
       "</style>\n",
       "<table border=\"1\" class=\"dataframe\">\n",
       "  <thead>\n",
       "    <tr style=\"text-align: right;\">\n",
       "      <th></th>\n",
       "      <th>Mean of the integrated profile</th>\n",
       "      <th>Standard deviation of the integrated profile</th>\n",
       "      <th>Excess kurtosis of the integrated profile</th>\n",
       "      <th>Skewness of the integrated profile</th>\n",
       "      <th>Mean of the DM-SNR curve</th>\n",
       "      <th>Standard deviation of the DM-SNR curve</th>\n",
       "      <th>Excess kurtosis of the DM-SNR curve</th>\n",
       "      <th>Skewness of the DM-SNR curve</th>\n",
       "      <th>target_class</th>\n",
       "    </tr>\n",
       "  </thead>\n",
       "  <tbody>\n",
       "    <tr>\n",
       "      <td>count</td>\n",
       "      <td>17898.000000</td>\n",
       "      <td>17898.000000</td>\n",
       "      <td>17898.000000</td>\n",
       "      <td>17898.000000</td>\n",
       "      <td>17898.000000</td>\n",
       "      <td>17898.000000</td>\n",
       "      <td>17898.000000</td>\n",
       "      <td>17898.000000</td>\n",
       "      <td>17898.000000</td>\n",
       "    </tr>\n",
       "    <tr>\n",
       "      <td>mean</td>\n",
       "      <td>111.079968</td>\n",
       "      <td>46.549532</td>\n",
       "      <td>0.477857</td>\n",
       "      <td>1.770279</td>\n",
       "      <td>12.614400</td>\n",
       "      <td>26.326515</td>\n",
       "      <td>8.303556</td>\n",
       "      <td>104.857709</td>\n",
       "      <td>0.091574</td>\n",
       "    </tr>\n",
       "    <tr>\n",
       "      <td>std</td>\n",
       "      <td>25.652935</td>\n",
       "      <td>6.843189</td>\n",
       "      <td>1.064040</td>\n",
       "      <td>6.167913</td>\n",
       "      <td>29.472897</td>\n",
       "      <td>19.470572</td>\n",
       "      <td>4.506092</td>\n",
       "      <td>106.514540</td>\n",
       "      <td>0.288432</td>\n",
       "    </tr>\n",
       "    <tr>\n",
       "      <td>min</td>\n",
       "      <td>5.812500</td>\n",
       "      <td>24.772042</td>\n",
       "      <td>-1.876011</td>\n",
       "      <td>-1.791886</td>\n",
       "      <td>0.213211</td>\n",
       "      <td>7.370432</td>\n",
       "      <td>-3.139270</td>\n",
       "      <td>-1.976976</td>\n",
       "      <td>0.000000</td>\n",
       "    </tr>\n",
       "    <tr>\n",
       "      <td>25%</td>\n",
       "      <td>100.929688</td>\n",
       "      <td>42.376018</td>\n",
       "      <td>0.027098</td>\n",
       "      <td>-0.188572</td>\n",
       "      <td>1.923077</td>\n",
       "      <td>14.437332</td>\n",
       "      <td>5.781506</td>\n",
       "      <td>34.960504</td>\n",
       "      <td>0.000000</td>\n",
       "    </tr>\n",
       "    <tr>\n",
       "      <td>50%</td>\n",
       "      <td>115.078125</td>\n",
       "      <td>46.947479</td>\n",
       "      <td>0.223240</td>\n",
       "      <td>0.198710</td>\n",
       "      <td>2.801839</td>\n",
       "      <td>18.461316</td>\n",
       "      <td>8.433515</td>\n",
       "      <td>83.064556</td>\n",
       "      <td>0.000000</td>\n",
       "    </tr>\n",
       "    <tr>\n",
       "      <td>75%</td>\n",
       "      <td>127.085938</td>\n",
       "      <td>51.023202</td>\n",
       "      <td>0.473325</td>\n",
       "      <td>0.927783</td>\n",
       "      <td>5.464256</td>\n",
       "      <td>28.428104</td>\n",
       "      <td>10.702959</td>\n",
       "      <td>139.309331</td>\n",
       "      <td>0.000000</td>\n",
       "    </tr>\n",
       "    <tr>\n",
       "      <td>max</td>\n",
       "      <td>192.617188</td>\n",
       "      <td>98.778911</td>\n",
       "      <td>8.069522</td>\n",
       "      <td>68.101622</td>\n",
       "      <td>223.392140</td>\n",
       "      <td>110.642211</td>\n",
       "      <td>34.539844</td>\n",
       "      <td>1191.000837</td>\n",
       "      <td>1.000000</td>\n",
       "    </tr>\n",
       "  </tbody>\n",
       "</table>\n",
       "</div>"
      ],
      "text/plain": [
       "        Mean of the integrated profile  \\\n",
       "count                     17898.000000   \n",
       "mean                        111.079968   \n",
       "std                          25.652935   \n",
       "min                           5.812500   \n",
       "25%                         100.929688   \n",
       "50%                         115.078125   \n",
       "75%                         127.085938   \n",
       "max                         192.617188   \n",
       "\n",
       "        Standard deviation of the integrated profile  \\\n",
       "count                                   17898.000000   \n",
       "mean                                       46.549532   \n",
       "std                                         6.843189   \n",
       "min                                        24.772042   \n",
       "25%                                        42.376018   \n",
       "50%                                        46.947479   \n",
       "75%                                        51.023202   \n",
       "max                                        98.778911   \n",
       "\n",
       "        Excess kurtosis of the integrated profile  \\\n",
       "count                                17898.000000   \n",
       "mean                                     0.477857   \n",
       "std                                      1.064040   \n",
       "min                                     -1.876011   \n",
       "25%                                      0.027098   \n",
       "50%                                      0.223240   \n",
       "75%                                      0.473325   \n",
       "max                                      8.069522   \n",
       "\n",
       "        Skewness of the integrated profile   Mean of the DM-SNR curve  \\\n",
       "count                         17898.000000               17898.000000   \n",
       "mean                              1.770279                  12.614400   \n",
       "std                               6.167913                  29.472897   \n",
       "min                              -1.791886                   0.213211   \n",
       "25%                              -0.188572                   1.923077   \n",
       "50%                               0.198710                   2.801839   \n",
       "75%                               0.927783                   5.464256   \n",
       "max                              68.101622                 223.392140   \n",
       "\n",
       "        Standard deviation of the DM-SNR curve  \\\n",
       "count                             17898.000000   \n",
       "mean                                 26.326515   \n",
       "std                                  19.470572   \n",
       "min                                   7.370432   \n",
       "25%                                  14.437332   \n",
       "50%                                  18.461316   \n",
       "75%                                  28.428104   \n",
       "max                                 110.642211   \n",
       "\n",
       "        Excess kurtosis of the DM-SNR curve   Skewness of the DM-SNR curve  \\\n",
       "count                          17898.000000                   17898.000000   \n",
       "mean                               8.303556                     104.857709   \n",
       "std                                4.506092                     106.514540   \n",
       "min                               -3.139270                      -1.976976   \n",
       "25%                                5.781506                      34.960504   \n",
       "50%                                8.433515                      83.064556   \n",
       "75%                               10.702959                     139.309331   \n",
       "max                               34.539844                    1191.000837   \n",
       "\n",
       "       target_class  \n",
       "count  17898.000000  \n",
       "mean       0.091574  \n",
       "std        0.288432  \n",
       "min        0.000000  \n",
       "25%        0.000000  \n",
       "50%        0.000000  \n",
       "75%        0.000000  \n",
       "max        1.000000  "
      ]
     },
     "execution_count": 10,
     "metadata": {},
     "output_type": "execute_result"
    }
   ],
   "source": [
    "pulsar_detection_data.describe()"
   ]
  },
  {
   "cell_type": "markdown",
   "metadata": {},
   "source": [
    "**Q-1: Analysing distribution of each feature with and without pulsar. Are these distributions significantly different?**\n",
    "\n",
    "Making a boxplot helps in identifying spread of the distribution, here I am comparing spread for each\n",
    "feature when pulsar was detected vs. when pulsar was not detected.\n",
    "This helps in identifying which features are obvious candidates for identifying pulsar."
   ]
  },
  {
   "cell_type": "code",
   "execution_count": 12,
   "metadata": {},
   "outputs": [],
   "source": [
    "def freq_distributions_plotter(feature, bins=50):\n",
    "    feature = ' ' + feature\n",
    "    fig, ax = plt.subplots(nrows=1, ncols=2, figsize=(20, 5))\n",
    "#     ax[0].set_xlabel(feature)\n",
    "#     ax[1].set_xlabel(feature)\n",
    "    pulsar_detection_data[pulsar_detection_data['target_class']==1][feature].reset_index(drop=True).plot(ax=ax[0], title='Pulsar', kind='box')\n",
    "    pulsar_detection_data[pulsar_detection_data['target_class']==0][feature].plot(ax=ax[1], title='No Pulsar', kind='box');\n"
   ]
  },
  {
   "cell_type": "code",
   "execution_count": 13,
   "metadata": {},
   "outputs": [
    {
     "data": {
      "image/png": "[encoded data removed]",
      "text/plain": [
       "<Figure size 1440x360 with 2 Axes>"
      ]
     },
     "metadata": {
      "needs_background": "light"
     },
     "output_type": "display_data"
    }
   ],
   "source": [
    "freq_distributions_plotter('Mean of the integrated profile')"
   ]
  },
  {
   "cell_type": "code",
   "execution_count": 14,
   "metadata": {},
   "outputs": [
    {
     "data": {
      "image/png": "[encoded data removed]",
      "text/plain": [
       "<Figure size 1440x360 with 2 Axes>"
      ]
     },
     "metadata": {
      "needs_background": "light"
     },
     "output_type": "display_data"
    }
   ],
   "source": [
    "freq_distributions_plotter('Standard deviation of the integrated profile')"
   ]
  },
  {
   "cell_type": "code",
   "execution_count": 15,
   "metadata": {},
   "outputs": [
    {
     "data": {
      "image/png": "[encoded data removed]",
      "text/plain": [
       "<Figure size 1440x360 with 2 Axes>"
      ]
     },
     "metadata": {
      "needs_background": "light"
     },
     "output_type": "display_data"
    }
   ],
   "source": [
    "freq_distributions_plotter('Excess kurtosis of the integrated profile')"
   ]
  },
  {
   "cell_type": "code",
   "execution_count": 16,
   "metadata": {},
   "outputs": [
    {
     "data": {
      "image/png": "[encoded data removed]",
      "text/plain": [
       "<Figure size 1440x360 with 2 Axes>"
      ]
     },
     "metadata": {
      "needs_background": "light"
     },
     "output_type": "display_data"
    }
   ],
   "source": [
    "freq_distributions_plotter('Skewness of the integrated profile')"
   ]
  },
  {
   "cell_type": "code",
   "execution_count": 17,
   "metadata": {},
   "outputs": [
    {
     "data": {
      "image/png": "[encoded data removed]",
      "text/plain": [
       "<Figure size 1440x360 with 2 Axes>"
      ]
     },
     "metadata": {
      "needs_background": "light"
     },
     "output_type": "display_data"
    }
   ],
   "source": [
    "freq_distributions_plotter('Mean of the DM-SNR curve')"
   ]
  },
  {
   "cell_type": "code",
   "execution_count": 18,
   "metadata": {},
   "outputs": [
    {
     "data": {
      "image/png": "[encoded data removed]",
      "text/plain": [
       "<Figure size 1440x360 with 2 Axes>"
      ]
     },
     "metadata": {
      "needs_background": "light"
     },
     "output_type": "display_data"
    }
   ],
   "source": [
    "freq_distributions_plotter('Standard deviation of the DM-SNR curve')"
   ]
  },
  {
   "cell_type": "code",
   "execution_count": 19,
   "metadata": {},
   "outputs": [
    {
     "data": {
      "image/png": "[encoded data removed]",
      "text/plain": [
       "<Figure size 1440x360 with 2 Axes>"
      ]
     },
     "metadata": {
      "needs_background": "light"
     },
     "output_type": "display_data"
    }
   ],
   "source": [
    "freq_distributions_plotter('Excess kurtosis of the DM-SNR curve')"
   ]
  },
  {
   "cell_type": "code",
   "execution_count": 20,
   "metadata": {},
   "outputs": [
    {
     "data": {
      "image/png": "[encoded data removed]",
      "text/plain": [
       "<Figure size 1440x360 with 2 Axes>"
      ]
     },
     "metadata": {
      "needs_background": "light"
     },
     "output_type": "display_data"
    }
   ],
   "source": [
    "freq_distributions_plotter('Skewness of the DM-SNR curve')"
   ]
  },
  {
   "cell_type": "code",
   "execution_count": 21,
   "metadata": {},
   "outputs": [],
   "source": [
    "# The most significant are:\n",
    "# Mean and skewness of itegrated profile.\n",
    "# Mean, standard deviation and excess kurtosis \n",
    "\n",
    "# But there are outliers that lie in other distribution's 75% values, hence any one feature isn't enough\n",
    "# for identification of pulsar. But together they can give a very conclusive result"
   ]
  },
  {
   "cell_type": "markdown",
   "metadata": {},
   "source": [
    "**Q-2: Are the features that will be used to predict the pulsar correlated?**\n",
    "\n",
    "This is a necessary check since this could cause multi-collinearity problem, some models are sensitive to multi-collinearity. It can also help in feature selection when 2 features are strongly correlated, only 1 feature is enough for model building."
   ]
  },
  {
   "cell_type": "code",
   "execution_count": 22,
   "metadata": {},
   "outputs": [
    {
     "data": {
      "text/html": [
       "<div>\n",
       "<style scoped>\n",
       "    .dataframe tbody tr th:only-of-type {\n",
       "        vertical-align: middle;\n",
       "    }\n",
       "\n",
       "    .dataframe tbody tr th {\n",
       "        vertical-align: top;\n",
       "    }\n",
       "\n",
       "    .dataframe thead th {\n",
       "        text-align: right;\n",
       "    }\n",
       "</style>\n",
       "<table border=\"1\" class=\"dataframe\">\n",
       "  <thead>\n",
       "    <tr style=\"text-align: right;\">\n",
       "      <th></th>\n",
       "      <th>Mean of the integrated profile</th>\n",
       "      <th>Standard deviation of the integrated profile</th>\n",
       "      <th>Excess kurtosis of the integrated profile</th>\n",
       "      <th>Skewness of the integrated profile</th>\n",
       "      <th>Mean of the DM-SNR curve</th>\n",
       "      <th>Standard deviation of the DM-SNR curve</th>\n",
       "      <th>Excess kurtosis of the DM-SNR curve</th>\n",
       "      <th>Skewness of the DM-SNR curve</th>\n",
       "      <th>target_class</th>\n",
       "    </tr>\n",
       "  </thead>\n",
       "  <tbody>\n",
       "    <tr>\n",
       "      <td>Mean of the integrated profile</td>\n",
       "      <td>1.000000</td>\n",
       "      <td>NaN</td>\n",
       "      <td>-0.873898</td>\n",
       "      <td>-0.738775</td>\n",
       "      <td>NaN</td>\n",
       "      <td>NaN</td>\n",
       "      <td>NaN</td>\n",
       "      <td>NaN</td>\n",
       "      <td>NaN</td>\n",
       "    </tr>\n",
       "    <tr>\n",
       "      <td>Standard deviation of the integrated profile</td>\n",
       "      <td>NaN</td>\n",
       "      <td>1.0</td>\n",
       "      <td>NaN</td>\n",
       "      <td>NaN</td>\n",
       "      <td>NaN</td>\n",
       "      <td>NaN</td>\n",
       "      <td>NaN</td>\n",
       "      <td>NaN</td>\n",
       "      <td>NaN</td>\n",
       "    </tr>\n",
       "    <tr>\n",
       "      <td>Excess kurtosis of the integrated profile</td>\n",
       "      <td>-0.873898</td>\n",
       "      <td>NaN</td>\n",
       "      <td>1.000000</td>\n",
       "      <td>0.945729</td>\n",
       "      <td>NaN</td>\n",
       "      <td>NaN</td>\n",
       "      <td>NaN</td>\n",
       "      <td>NaN</td>\n",
       "      <td>0.791591</td>\n",
       "    </tr>\n",
       "    <tr>\n",
       "      <td>Skewness of the integrated profile</td>\n",
       "      <td>-0.738775</td>\n",
       "      <td>NaN</td>\n",
       "      <td>0.945729</td>\n",
       "      <td>1.000000</td>\n",
       "      <td>NaN</td>\n",
       "      <td>NaN</td>\n",
       "      <td>NaN</td>\n",
       "      <td>NaN</td>\n",
       "      <td>0.709528</td>\n",
       "    </tr>\n",
       "    <tr>\n",
       "      <td>Mean of the DM-SNR curve</td>\n",
       "      <td>NaN</td>\n",
       "      <td>NaN</td>\n",
       "      <td>NaN</td>\n",
       "      <td>NaN</td>\n",
       "      <td>1.000000</td>\n",
       "      <td>0.796555</td>\n",
       "      <td>NaN</td>\n",
       "      <td>NaN</td>\n",
       "      <td>NaN</td>\n",
       "    </tr>\n",
       "    <tr>\n",
       "      <td>Standard deviation of the DM-SNR curve</td>\n",
       "      <td>NaN</td>\n",
       "      <td>NaN</td>\n",
       "      <td>NaN</td>\n",
       "      <td>NaN</td>\n",
       "      <td>0.796555</td>\n",
       "      <td>1.000000</td>\n",
       "      <td>-0.809786</td>\n",
       "      <td>NaN</td>\n",
       "      <td>NaN</td>\n",
       "    </tr>\n",
       "    <tr>\n",
       "      <td>Excess kurtosis of the DM-SNR curve</td>\n",
       "      <td>NaN</td>\n",
       "      <td>NaN</td>\n",
       "      <td>NaN</td>\n",
       "      <td>NaN</td>\n",
       "      <td>NaN</td>\n",
       "      <td>-0.809786</td>\n",
       "      <td>1.000000</td>\n",
       "      <td>0.923743</td>\n",
       "      <td>NaN</td>\n",
       "    </tr>\n",
       "    <tr>\n",
       "      <td>Skewness of the DM-SNR curve</td>\n",
       "      <td>NaN</td>\n",
       "      <td>NaN</td>\n",
       "      <td>NaN</td>\n",
       "      <td>NaN</td>\n",
       "      <td>NaN</td>\n",
       "      <td>NaN</td>\n",
       "      <td>0.923743</td>\n",
       "      <td>1.000000</td>\n",
       "      <td>NaN</td>\n",
       "    </tr>\n",
       "    <tr>\n",
       "      <td>target_class</td>\n",
       "      <td>NaN</td>\n",
       "      <td>NaN</td>\n",
       "      <td>0.791591</td>\n",
       "      <td>0.709528</td>\n",
       "      <td>NaN</td>\n",
       "      <td>NaN</td>\n",
       "      <td>NaN</td>\n",
       "      <td>NaN</td>\n",
       "      <td>1.000000</td>\n",
       "    </tr>\n",
       "  </tbody>\n",
       "</table>\n",
       "</div>"
      ],
      "text/plain": [
       "                                                Mean of the integrated profile  \\\n",
       " Mean of the integrated profile                                       1.000000   \n",
       " Standard deviation of the integrated profile                              NaN   \n",
       " Excess kurtosis of the integrated profile                           -0.873898   \n",
       " Skewness of the integrated profile                                  -0.738775   \n",
       " Mean of the DM-SNR curve                                                  NaN   \n",
       " Standard deviation of the DM-SNR curve                                    NaN   \n",
       " Excess kurtosis of the DM-SNR curve                                       NaN   \n",
       " Skewness of the DM-SNR curve                                              NaN   \n",
       "target_class                                                               NaN   \n",
       "\n",
       "                                                Standard deviation of the integrated profile  \\\n",
       " Mean of the integrated profile                                                          NaN   \n",
       " Standard deviation of the integrated profile                                            1.0   \n",
       " Excess kurtosis of the integrated profile                                               NaN   \n",
       " Skewness of the integrated profile                                                      NaN   \n",
       " Mean of the DM-SNR curve                                                                NaN   \n",
       " Standard deviation of the DM-SNR curve                                                  NaN   \n",
       " Excess kurtosis of the DM-SNR curve                                                     NaN   \n",
       " Skewness of the DM-SNR curve                                                            NaN   \n",
       "target_class                                                                             NaN   \n",
       "\n",
       "                                                Excess kurtosis of the integrated profile  \\\n",
       " Mean of the integrated profile                                                 -0.873898   \n",
       " Standard deviation of the integrated profile                                         NaN   \n",
       " Excess kurtosis of the integrated profile                                       1.000000   \n",
       " Skewness of the integrated profile                                              0.945729   \n",
       " Mean of the DM-SNR curve                                                             NaN   \n",
       " Standard deviation of the DM-SNR curve                                               NaN   \n",
       " Excess kurtosis of the DM-SNR curve                                                  NaN   \n",
       " Skewness of the DM-SNR curve                                                         NaN   \n",
       "target_class                                                                     0.791591   \n",
       "\n",
       "                                                Skewness of the integrated profile  \\\n",
       " Mean of the integrated profile                                          -0.738775   \n",
       " Standard deviation of the integrated profile                                  NaN   \n",
       " Excess kurtosis of the integrated profile                                0.945729   \n",
       " Skewness of the integrated profile                                       1.000000   \n",
       " Mean of the DM-SNR curve                                                      NaN   \n",
       " Standard deviation of the DM-SNR curve                                        NaN   \n",
       " Excess kurtosis of the DM-SNR curve                                           NaN   \n",
       " Skewness of the DM-SNR curve                                                  NaN   \n",
       "target_class                                                              0.709528   \n",
       "\n",
       "                                                Mean of the DM-SNR curve  \\\n",
       " Mean of the integrated profile                                      NaN   \n",
       " Standard deviation of the integrated profile                        NaN   \n",
       " Excess kurtosis of the integrated profile                           NaN   \n",
       " Skewness of the integrated profile                                  NaN   \n",
       " Mean of the DM-SNR curve                                       1.000000   \n",
       " Standard deviation of the DM-SNR curve                         0.796555   \n",
       " Excess kurtosis of the DM-SNR curve                                 NaN   \n",
       " Skewness of the DM-SNR curve                                        NaN   \n",
       "target_class                                                         NaN   \n",
       "\n",
       "                                                Standard deviation of the DM-SNR curve  \\\n",
       " Mean of the integrated profile                                                    NaN   \n",
       " Standard deviation of the integrated profile                                      NaN   \n",
       " Excess kurtosis of the integrated profile                                         NaN   \n",
       " Skewness of the integrated profile                                                NaN   \n",
       " Mean of the DM-SNR curve                                                     0.796555   \n",
       " Standard deviation of the DM-SNR curve                                       1.000000   \n",
       " Excess kurtosis of the DM-SNR curve                                         -0.809786   \n",
       " Skewness of the DM-SNR curve                                                      NaN   \n",
       "target_class                                                                       NaN   \n",
       "\n",
       "                                                Excess kurtosis of the DM-SNR curve  \\\n",
       " Mean of the integrated profile                                                 NaN   \n",
       " Standard deviation of the integrated profile                                   NaN   \n",
       " Excess kurtosis of the integrated profile                                      NaN   \n",
       " Skewness of the integrated profile                                             NaN   \n",
       " Mean of the DM-SNR curve                                                       NaN   \n",
       " Standard deviation of the DM-SNR curve                                   -0.809786   \n",
       " Excess kurtosis of the DM-SNR curve                                       1.000000   \n",
       " Skewness of the DM-SNR curve                                              0.923743   \n",
       "target_class                                                                    NaN   \n",
       "\n",
       "                                                Skewness of the DM-SNR curve  \\\n",
       " Mean of the integrated profile                                          NaN   \n",
       " Standard deviation of the integrated profile                            NaN   \n",
       " Excess kurtosis of the integrated profile                               NaN   \n",
       " Skewness of the integrated profile                                      NaN   \n",
       " Mean of the DM-SNR curve                                                NaN   \n",
       " Standard deviation of the DM-SNR curve                                  NaN   \n",
       " Excess kurtosis of the DM-SNR curve                                0.923743   \n",
       " Skewness of the DM-SNR curve                                       1.000000   \n",
       "target_class                                                             NaN   \n",
       "\n",
       "                                               target_class  \n",
       " Mean of the integrated profile                         NaN  \n",
       " Standard deviation of the integrated profile           NaN  \n",
       " Excess kurtosis of the integrated profile         0.791591  \n",
       " Skewness of the integrated profile                0.709528  \n",
       " Mean of the DM-SNR curve                               NaN  \n",
       " Standard deviation of the DM-SNR curve                 NaN  \n",
       " Excess kurtosis of the DM-SNR curve                    NaN  \n",
       " Skewness of the DM-SNR curve                           NaN  \n",
       "target_class                                       1.000000  "
      ]
     },
     "execution_count": 22,
     "metadata": {},
     "output_type": "execute_result"
    }
   ],
   "source": [
    "# Considering high correlation as greater than 0.7 or less than -0.7\n",
    "pulsar_detection_data.corr()[(pulsar_detection_data.corr() > 0.7) | (pulsar_detection_data.corr() < -0.7)]"
   ]
  },
  {
   "cell_type": "code",
   "execution_count": 22,
   "metadata": {},
   "outputs": [],
   "source": [
    "# Yes some of the features are highly correlated so can't use models with multi-collinearity problem"
   ]
  },
  {
   "cell_type": "markdown",
   "metadata": {},
   "source": [
    "**Q-3: Are the features normally distributed?**"
   ]
  },
  {
   "cell_type": "code",
   "execution_count": 24,
   "metadata": {},
   "outputs": [
    {
     "name": "stdout",
     "output_type": "stream",
     "text": [
      "NormaltestResult(statistic=4580.667790905046, pvalue=0.0)\n",
      "NormaltestResult(statistic=730.4769612928392, pvalue=2.3930031843850363e-159)\n",
      "NormaltestResult(statistic=13434.267033635784, pvalue=0.0)\n",
      "NormaltestResult(statistic=18007.21177152432, pvalue=0.0)\n",
      "NormaltestResult(statistic=13467.287164275938, pvalue=0.0)\n",
      "NormaltestResult(statistic=6152.602710850444, pvalue=0.0)\n",
      "NormaltestResult(statistic=1136.6980859907671, pvalue=1.4762055443103622e-247)\n",
      "NormaltestResult(statistic=11017.525888588696, pvalue=0.0)\n"
     ]
    }
   ],
   "source": [
    "# Null hypothesis : Distribution is normal\n",
    "# If p-value < 0.01, can reject the null hypothesis\n",
    "print(normaltest(pulsar_detection_data[' Mean of the integrated profile']))\n",
    "print(normaltest(pulsar_detection_data[' Standard deviation of the integrated profile']))\n",
    "print(normaltest(pulsar_detection_data[' Excess kurtosis of the integrated profile']))\n",
    "print(normaltest(pulsar_detection_data[' Skewness of the integrated profile']))\n",
    "\n",
    "\n",
    "print(normaltest(pulsar_detection_data[' Mean of the DM-SNR curve']))\n",
    "print(normaltest(pulsar_detection_data[' Standard deviation of the DM-SNR curve']))\n",
    "print(normaltest(pulsar_detection_data[' Excess kurtosis of the DM-SNR curve']))\n",
    "print(normaltest(pulsar_detection_data[' Skewness of the DM-SNR curve']))"
   ]
  },
  {
   "cell_type": "code",
   "execution_count": 25,
   "metadata": {},
   "outputs": [],
   "source": [
    "# There goes our hopes for using naive bayes classifier, none of the features are normally distributed since\n",
    "# all p-values are less than 0.01, rejecting the null hypothesis that the distributions are normal"
   ]
  },
  {
   "cell_type": "code",
   "execution_count": 26,
   "metadata": {},
   "outputs": [],
   "source": [
    "def model_evaluation(y_test, y_pred):\n",
    "    tn, fp, fn, tp = confusion_matrix(y_test, y_pred).ravel()\n",
    "    print('True positives: ', tp)\n",
    "    print('True negatives: ', tn)\n",
    "    print('False positives: ', fp)\n",
    "    print('False negatives: ', fn)\n",
    "    print(\"Accuracy: \", accuracy_score(y_test, y_pred))\n",
    "    print(\"Precision: \", precision_score(y_test, y_pred))\n",
    "    print(\"Recall: \", recall_score(y_test, y_pred))\n",
    "    print(\"f1_score: \", f1_score(y_test, y_pred))\n",
    "#     print(\"fbeta with beta of 0.5: \", fbeta_score(y_test, y_pred, beta=0.5))\n"
   ]
  },
  {
   "cell_type": "code",
   "execution_count": 136,
   "metadata": {
    "scrolled": false
   },
   "outputs": [
    {
     "name": "stdout",
     "output_type": "stream",
     "text": [
      "Original Data:  (17898, 9)\n",
      "Train features:  (12528, 8)\n",
      "0    11381\n",
      "1     1147\n",
      "Name: target_class, dtype: int64\n",
      "Test features:  (5370, 8)\n",
      "0    4878\n",
      "1     492\n",
      "Name: target_class, dtype: int64\n",
      "\n",
      "Train Set Evaluation:\n",
      "True positives:  1146\n",
      "True negatives:  11337\n",
      "False positives:  44\n",
      "False negatives:  1\n",
      "Accuracy:  0.9964080459770115\n",
      "Precision:  0.9630252100840336\n",
      "Recall:  0.999128160418483\n",
      "f1_score:  0.9807445442875482\n",
      "None\n",
      "Test Set Evaluation:\n",
      "True positives:  425\n",
      "True negatives:  4837\n",
      "False positives:  41\n",
      "False negatives:  67\n",
      "Accuracy:  0.9798882681564246\n",
      "Precision:  0.9120171673819742\n",
      "Recall:  0.8638211382113821\n",
      "f1_score:  0.8872651356993737\n",
      "None\n",
      "\n"
     ]
    }
   ],
   "source": [
    "# Random Forest classifier\n",
    "\n",
    "# Stratified Splitting\n",
    "X = pulsar_detection_data.drop(['target_class'\n",
    "#                                , ' Excess kurtosis of the integrated profile'\n",
    "#                                ,' Skewness of the integrated profile'\n",
    "#                                , ' Excess kurtosis of the DM-SNR curve'\n",
    "#                                ,' Skewness of the DM-SNR curve'\n",
    "#                                , ' Standard deviation of the integrated profile'\n",
    "#                                ,' Standard deviation of the DM-SNR curve'\n",
    "                               ], axis=1)\n",
    "y = pulsar_detection_data['target_class']\n",
    "X_train, X_test, y_train, y_test = train_test_split(X, y, stratify=y, test_size=0.3, random_state=42)\n",
    "\n",
    "print(\"Original Data: \", pulsar_detection_data.shape)\n",
    "print(\"Train features: \", X_train.shape)\n",
    "print(y_train.value_counts())\n",
    "print(\"Test features: \", X_test.shape)\n",
    "print(y_test.value_counts())\n",
    "\n",
    "# preserving column names since scaling outputs numpy array\n",
    "columns = X_train.columns\n",
    "\n",
    "# scaling\n",
    "scaler = StandardScaler()\n",
    "X_train = scaler.fit_transform(X_train)\n",
    "X_test = scaler.transform(X_test)\n",
    "\n",
    "# renaming columns\n",
    "X_train = pd.DataFrame(X_train)\n",
    "X_test = pd.DataFrame(X_test)\n",
    "X_train.columns = columns\n",
    "X_test.columns = columns\n",
    "\n",
    "# model building\n",
    "model = RandomForestClassifier(n_estimators=100, random_state=1,bootstrap=True, class_weight='balanced',\n",
    "                               criterion='gini', max_depth=None, \n",
    "                               max_features='log2',max_leaf_nodes=None, min_impurity_decrease=0.0,\n",
    "                               min_impurity_split=None, min_samples_leaf=2, min_samples_split=3,\n",
    "                               min_weight_fraction_leaf=0.0, n_jobs=None, oob_score=False,\n",
    "                               verbose=0, warm_start=False)\n",
    "model.fit(X_train,y_train)\n",
    "y_pred_test = model.predict(X_test)\n",
    "y_pred_train = model.predict(X_train)\n",
    "\n",
    "\n",
    "print(\"\")\n",
    "\n",
    "print(\"Train Set Evaluation:\")\n",
    "print(model_evaluation(y_train, y_pred_train))\n",
    "\n",
    "print(\"Test Set Evaluation:\")\n",
    "print(model_evaluation(y_test, y_pred_test))\n",
    "print(\"\")"
   ]
  },
  {
   "cell_type": "code",
   "execution_count": 122,
   "metadata": {},
   "outputs": [
    {
     "name": "stdout",
     "output_type": "stream",
     "text": [
      "Original Data:  (17898, 9)\n",
      "Train features:  (12528, 8)\n",
      "0    11381\n",
      "1     1147\n",
      "Name: target_class, dtype: int64\n",
      "Test features:  (5370, 8)\n",
      "0    4878\n",
      "1     492\n",
      "Name: target_class, dtype: int64\n",
      "\n",
      "Test Set Evaluation:\n",
      "True positives:  410\n",
      "True negatives:  4852\n",
      "False positives:  26\n",
      "False negatives:  82\n",
      "Accuracy:  0.9798882681564246\n",
      "Precision:  0.9403669724770642\n",
      "Recall:  0.8333333333333334\n",
      "f1_score:  0.8836206896551725\n",
      "None\n",
      "\n",
      "Train Set Evaluation:\n",
      "True positives:  985\n",
      "True negatives:  11317\n",
      "False positives:  64\n",
      "False negatives:  162\n",
      "Accuracy:  0.9819604086845466\n",
      "Precision:  0.9389895138226882\n",
      "Recall:  0.8587619877942458\n",
      "f1_score:  0.8970856102003644\n",
      "None\n"
     ]
    }
   ],
   "source": [
    "# KNN classifier\n",
    "\n",
    "# Stratified Splitting\n",
    "X = pulsar_detection_data.drop('target_class', axis=1)\n",
    "y = pulsar_detection_data['target_class']\n",
    "X_train, X_test, y_train, y_test = train_test_split(X, y, stratify=y, test_size=0.3, random_state=42)\n",
    "\n",
    "print(\"Original Data: \", pulsar_detection_data.shape)\n",
    "print(\"Train features: \", X_train.shape)\n",
    "print(y_train.value_counts())\n",
    "print(\"Test features: \", X_test.shape)\n",
    "print(y_test.value_counts())\n",
    "\n",
    "# preserving column names since scaling outputs numpy array\n",
    "columns = X_train.columns\n",
    "\n",
    "# scaling\n",
    "scaler = StandardScaler()\n",
    "X_train = scaler.fit_transform(X_train)\n",
    "X_test = scaler.transform(X_test)\n",
    "\n",
    "# renaming columns\n",
    "X_train = pd.DataFrame(X_train)\n",
    "X_test = pd.DataFrame(X_test)\n",
    "X_train.columns = columns\n",
    "X_test.columns = columns\n",
    "\n",
    "# model building\n",
    "model = KNeighborsClassifier()\n",
    "model.fit(X_train,y_train)\n",
    "y_pred_test = model.predict(X_test)\n",
    "y_pred_train = model.predict(X_train)\n",
    "\n",
    "print(\"\")\n",
    "print(\"Test Set Evaluation:\")\n",
    "print(model_evaluation(y_test, y_pred_test))\n",
    "print(\"\")\n",
    "print(\"Train Set Evaluation:\")\n",
    "print(model_evaluation(y_train, y_pred_train))"
   ]
  },
  {
   "cell_type": "code",
   "execution_count": 124,
   "metadata": {
    "scrolled": false
   },
   "outputs": [
    {
     "name": "stdout",
     "output_type": "stream",
     "text": [
      "Original Data:  (17898, 9)\n",
      "Train features:  (12528, 8)\n",
      "0    11381\n",
      "1     1147\n",
      "Name: target_class, dtype: int64\n",
      "Test features:  (5370, 8)\n",
      "0    4878\n",
      "1     492\n",
      "Name: target_class, dtype: int64\n",
      "\n",
      "Test Set Evaluation:\n",
      "True positives:  413\n",
      "True negatives:  4847\n",
      "False positives:  31\n",
      "False negatives:  79\n",
      "Accuracy:  0.9795158286778398\n",
      "Precision:  0.9301801801801802\n",
      "Recall:  0.8394308943089431\n",
      "f1_score:  0.8824786324786325\n",
      "None\n",
      "\n",
      "Train Set Evaluation:\n",
      "True positives:  983\n",
      "True negatives:  11309\n",
      "False positives:  72\n",
      "False negatives:  164\n",
      "Accuracy:  0.981162196679438\n",
      "Precision:  0.9317535545023696\n",
      "Recall:  0.8570183086312119\n",
      "f1_score:  0.8928247048138056\n",
      "None\n"
     ]
    }
   ],
   "source": [
    "# Multilayer perceptron\n",
    "\n",
    "# Stratified Splitting\n",
    "X = pulsar_detection_data.drop('target_class', axis=1)\n",
    "y = pulsar_detection_data['target_class']\n",
    "X_train, X_test, y_train, y_test = train_test_split(X, y, stratify=y, test_size=0.3, random_state=42)\n",
    "\n",
    "print(\"Original Data: \", pulsar_detection_data.shape)\n",
    "print(\"Train features: \", X_train.shape)\n",
    "print(y_train.value_counts())\n",
    "print(\"Test features: \", X_test.shape)\n",
    "print(y_test.value_counts())\n",
    "\n",
    "# preserving column names since scaling outputs numpy array\n",
    "columns = X_train.columns\n",
    "\n",
    "# scaling\n",
    "scaler = StandardScaler()\n",
    "X_train = scaler.fit_transform(X_train)\n",
    "X_test = scaler.transform(X_test)\n",
    "\n",
    "# renaming columns\n",
    "X_train = pd.DataFrame(X_train)\n",
    "X_test = pd.DataFrame(X_test)\n",
    "X_train.columns = columns\n",
    "X_test.columns = columns\n",
    "\n",
    "model = MLPClassifier(hidden_layer_sizes=100, activation='relu', learning_rate='adaptive', random_state=1)\n",
    "model.fit(X_train,y_train)\n",
    "y_pred_test = model.predict(X_test)\n",
    "y_pred_train = model.predict(X_train)\n",
    "\n",
    "print(\"\")\n",
    "print(\"Test Set Evaluation:\")\n",
    "print(model_evaluation(y_test, y_pred_test))\n",
    "print(\"\")\n",
    "print(\"Train Set Evaluation:\")\n",
    "print(model_evaluation(y_train, y_pred_train))"
   ]
  },
  {
   "cell_type": "code",
   "execution_count": 126,
   "metadata": {},
   "outputs": [
    {
     "name": "stdout",
     "output_type": "stream",
     "text": [
      "Original Data:  (17898, 9)\n",
      "Train features:  (12528, 8)\n",
      "0    11381\n",
      "1     1147\n",
      "Name: target_class, dtype: int64\n",
      "Test features:  (5370, 8)\n",
      "0    4878\n",
      "1     492\n",
      "Name: target_class, dtype: int64\n",
      "\n",
      "Test Set Evaluation:\n",
      "True positives:  383\n",
      "True negatives:  4861\n",
      "False positives:  17\n",
      "False negatives:  109\n",
      "Accuracy:  0.976536312849162\n",
      "Precision:  0.9575\n",
      "Recall:  0.7784552845528455\n",
      "f1_score:  0.8587443946188341\n",
      "None\n",
      "\n",
      "Train Set Evaluation:\n",
      "True positives:  895\n",
      "True negatives:  11332\n",
      "False positives:  49\n",
      "False negatives:  252\n",
      "Accuracy:  0.9759738186462324\n",
      "Precision:  0.948093220338983\n",
      "Recall:  0.7802964254577158\n",
      "f1_score:  0.856049736967958\n",
      "None\n"
     ]
    }
   ],
   "source": [
    "# SGD classifier\n",
    "\n",
    "# Stratified Splitting\n",
    "X = pulsar_detection_data.drop('target_class', axis=1)\n",
    "y = pulsar_detection_data['target_class']\n",
    "X_train, X_test, y_train, y_test = train_test_split(X, y, stratify=y, test_size=0.3, random_state=42)\n",
    "\n",
    "print(\"Original Data: \", pulsar_detection_data.shape)\n",
    "print(\"Train features: \", X_train.shape)\n",
    "print(y_train.value_counts())\n",
    "print(\"Test features: \", X_test.shape)\n",
    "print(y_test.value_counts())\n",
    "\n",
    "# preserving column names since scaling outputs numpy array\n",
    "columns = X_train.columns\n",
    "\n",
    "# scaling\n",
    "scaler = StandardScaler()\n",
    "X_train = scaler.fit_transform(X_train)\n",
    "X_test = scaler.transform(X_test)\n",
    "\n",
    "# renaming columns\n",
    "X_train = pd.DataFrame(X_train)\n",
    "X_test = pd.DataFrame(X_test)\n",
    "X_train.columns = columns\n",
    "X_test.columns = columns\n",
    "\n",
    "model = SGDClassifier(random_state=1)\n",
    "model.fit(X_train,y_train)\n",
    "y_pred_test = model.predict(X_test)\n",
    "y_pred_train = model.predict(X_train)\n",
    "\n",
    "print(\"\")\n",
    "print(\"Test Set Evaluation:\")\n",
    "print(model_evaluation(y_test, y_pred_test))\n",
    "print(\"\")\n",
    "print(\"Train Set Evaluation:\")\n",
    "print(model_evaluation(y_train, y_pred_train))"
   ]
  },
  {
   "cell_type": "code",
   "execution_count": 133,
   "metadata": {
    "scrolled": false
   },
   "outputs": [
    {
     "name": "stdout",
     "output_type": "stream",
     "text": [
      "Original Data:  (17898, 9)\n",
      "Train features:  (12528, 8)\n",
      "0    11381\n",
      "1     1147\n",
      "Name: target_class, dtype: int64\n",
      "Test features:  (5370, 8)\n",
      "0    4878\n",
      "1     492\n",
      "Name: target_class, dtype: int64\n",
      "\n",
      "Test Set Evaluation:\n",
      "True positives:  416\n",
      "True negatives:  4850\n",
      "False positives:  28\n",
      "False negatives:  76\n",
      "Accuracy:  0.9806331471135941\n",
      "Precision:  0.9369369369369369\n",
      "Recall:  0.8455284552845529\n",
      "f1_score:  0.888888888888889\n",
      "None\n",
      "\n",
      "Train Set Evaluation:\n",
      "True positives:  1098\n",
      "True negatives:  11373\n",
      "False positives:  8\n",
      "False negatives:  49\n",
      "Accuracy:  0.9954501915708812\n",
      "Precision:  0.9927667269439421\n",
      "Recall:  0.9572798605056669\n",
      "f1_score:  0.9747003994673769\n",
      "None\n"
     ]
    }
   ],
   "source": [
    "# Voting classifier\n",
    "\n",
    "# Stratified Splitting\n",
    "X = pulsar_detection_data.drop('target_class', axis=1)\n",
    "y = pulsar_detection_data['target_class']\n",
    "X_train, X_test, y_train, y_test = train_test_split(X, y, stratify=y, test_size=0.3, random_state=42)\n",
    "\n",
    "print(\"Original Data: \", pulsar_detection_data.shape)\n",
    "print(\"Train features: \", X_train.shape)\n",
    "print(y_train.value_counts())\n",
    "print(\"Test features: \", X_test.shape)\n",
    "print(y_test.value_counts())\n",
    "\n",
    "# preserving column names since scaling outputs numpy array\n",
    "columns = X_train.columns\n",
    "\n",
    "# scaling\n",
    "scaler = StandardScaler()\n",
    "X_train = scaler.fit_transform(X_train)\n",
    "X_test = scaler.transform(X_test)\n",
    "\n",
    "# renaming columns\n",
    "X_train = pd.DataFrame(X_train)\n",
    "X_test = pd.DataFrame(X_test)\n",
    "X_train.columns = columns\n",
    "X_test.columns = columns\n",
    "\n",
    "clf1 = LogisticRegression(solver='lbfgs', random_state=1)\n",
    "clf2 = RandomForestClassifier(n_estimators=50, random_state=1)\n",
    "clf3 = KNeighborsClassifier()\n",
    "# clf4 = GradientBoostingClassifier(random_state=1)\n",
    "# clf5 = SVC(probability=True, random_state=1)\n",
    "\n",
    "model = VotingClassifier(estimators=[\n",
    "    ('lr', clf1), \n",
    "    ('rf1', clf2), \n",
    "    ('knn', clf3),\n",
    "#     ('gbc', clf4),\n",
    "#     ('svc', clf5)\n",
    "],\n",
    "    voting='soft', weights=[1, 5, 1])\n",
    "\n",
    "\n",
    "\n",
    "model.fit(X_train,y_train)\n",
    "\n",
    "y_pred_test = model.predict(X_test)\n",
    "y_pred_train = model.predict(X_train)\n",
    "\n",
    "print(\"\")\n",
    "print(\"Test Set Evaluation:\")\n",
    "print(model_evaluation(y_test, y_pred_test))\n",
    "print(\"\")\n",
    "print(\"Train Set Evaluation:\")\n",
    "print(model_evaluation(y_train, y_pred_train))"
   ]
  },
  {
   "cell_type": "code",
   "execution_count": 76,
   "metadata": {
    "scrolled": false
   },
   "outputs": [],
   "source": [
    "# # predict class probabilities for all classifiers\n",
    "# # Voting classifier\n",
    "\n",
    "# X = pulsar_detection_data.drop('target_class', axis=1)\n",
    "# y = pulsar_detection_data['target_class']\n",
    "# X_train, X_test, y_train, y_test = train_test_split(X, y, stratify=y, test_size=0.3)\n",
    "\n",
    "# scaler = StandardScaler()\n",
    "# columns = X_train.columns\n",
    "# X_train = scaler.fit_transform(X_train)\n",
    "# X_test = scaler.transform(X_test)\n",
    "# X_train = pd.DataFrame(X_train)\n",
    "# X_test = pd.DataFrame(X_test)\n",
    "# X_train.columns = columns\n",
    "# X_test.columns = columns\n",
    "\n",
    "\n",
    "# # clf1 = LogisticRegression(solver='lbfgs', random_state=1)\n",
    "# clf2 = RandomForestClassifier(n_estimators=50, random_state=1)\n",
    "# clf3 = KNeighborsClassifier(n_neighbors=10)\n",
    "# # clf4 = GradientBoostingClassifier(random_state=1)\n",
    "# # clf5 = SVC(probability=True)\n",
    "\n",
    "# model = VotingClassifier(estimators=[('rf', clf2), ('knn', clf3)], voting='soft')\n",
    "\n",
    "# probas = [c.fit(X_train, y_train).predict_proba(X_test) for c in (clf2, clf3, model)]\n",
    "\n",
    "# # get class probabilities for the first sample in the dataset\n",
    "# class1_1 = [pr[0, 0] for pr in probas]\n",
    "# class2_1 = [pr[0, 1] for pr in probas]\n",
    "\n",
    "\n",
    "# # plotting\n",
    "\n",
    "# N = 3  # number of groups\n",
    "# ind = np.arange(N)  # group positions\n",
    "# width = 0.35  # bar width\n",
    "\n",
    "# fig, ax = plt.subplots(figsize=(15, 10))\n",
    "\n",
    "# # bars for classifier 1-3\n",
    "# p1 = ax.bar(ind, np.hstack(([class1_1[:-1], [0]])), width, color='green', edgecolor='k')\n",
    "# p2 = ax.bar(ind + width, np.hstack(([class2_1[:-1], [0]])), width, color='lightgreen', edgecolor='k')\n",
    "\n",
    "\n",
    "# # bars for VotingClassifier\n",
    "# p3 = ax.bar(ind, [0, 0, class1_1[-1]], width, color='blue', edgecolor='k')\n",
    "# p4 = ax.bar(ind + width, [0, 0, class2_1[-1]], width, color='steelblue', edgecolor='k')\n",
    "\n",
    "\n",
    "# # plot annotations\n",
    "# plt.axvline(1.8, color='k', linestyle='dashed')\n",
    "# ax.set_xticks(ind + width)\n",
    "# ax.set_xticklabels([\n",
    "# #     'LogisticRegression\\nweight 3',\n",
    "#                     'RandomForestClassifier\\nweight 1',\n",
    "#                     'KNeighborsClassifier\\nweight 1',\n",
    "# #                     'GradientBoostingClassifier\\nweight 1',\n",
    "# #                     'SVC\\nweight 1',\n",
    "#                     'VotingClassifier\\n(average probabilities)'],\n",
    "#                    rotation=40,\n",
    "#                    ha='right')\n",
    "# plt.ylim([0, 1])\n",
    "# plt.title('Class probabilities for sample 1 by different classifiers')\n",
    "\n",
    "# plt.legend([p1[0], p2[0]], ['Pulsar', 'class 2'], loc='upper left')\n",
    "# plt.tight_layout()\n",
    "# plt.show()"
   ]
  },
  {
   "cell_type": "markdown",
   "metadata": {},
   "source": [
    "**GRID SEARCH**"
   ]
  },
  {
   "cell_type": "code",
   "execution_count": 74,
   "metadata": {},
   "outputs": [],
   "source": [
    "parameters = {\n",
    "    'n_estimators': [50, 100], \n",
    "    'criterion':['gini', 'entropy'], \n",
    "    'max_depth':[None, 1, 3], \n",
    "    'min_samples_split':[2, 3], \n",
    "    'min_samples_leaf':[1, 2], \n",
    "#     'min_weight_fraction_leaf':0.0, \n",
    "    'max_features':['auto', 'sqrt', 'log2', None], \n",
    "#     'max_leaf_nodes':None, \n",
    "#     'min_impurity_decrease':0.0, \n",
    "#     'oob_score':[False, True], \n",
    "    'class_weight':[None, 'balanced', 'balanced_subsample']\n",
    "}"
   ]
  },
  {
   "cell_type": "code",
   "execution_count": 75,
   "metadata": {},
   "outputs": [],
   "source": [
    "model_tuned = GridSearchCV(RandomForestClassifier(), parameters, cv=3)\n",
    "model_tuned.fit(X_train,y_train)\n",
    "y_pred_tuned = model_tuned.predict(X_test)"
   ]
  },
  {
   "cell_type": "code",
   "execution_count": 78,
   "metadata": {},
   "outputs": [
    {
     "name": "stdout",
     "output_type": "stream",
     "text": [
      "True positives:  1143\n",
      "True negatives:  11342\n",
      "False positives:  39\n",
      "False negatives:  4\n",
      "Accuracy:  0.9965676883780332\n",
      "Precision:  0.9670050761421319\n",
      "Recall:  0.9965126416739319\n",
      "f1_score:  0.9815371404036067\n"
     ]
    }
   ],
   "source": [
    "model_evaluation(y_train, model_tuned.predict(X_train))"
   ]
  },
  {
   "cell_type": "code",
   "execution_count": 79,
   "metadata": {},
   "outputs": [
    {
     "data": {
      "text/plain": [
       "RandomForestClassifier(bootstrap=True, class_weight='balanced',\n",
       "                       criterion='gini', max_depth=None, max_features='log2',\n",
       "                       max_leaf_nodes=None, min_impurity_decrease=0.0,\n",
       "                       min_impurity_split=None, min_samples_leaf=2,\n",
       "                       min_samples_split=3, min_weight_fraction_leaf=0.0,\n",
       "                       n_estimators=100, n_jobs=None, oob_score=False,\n",
       "                       random_state=None, verbose=0, warm_start=False)"
      ]
     },
     "execution_count": 79,
     "metadata": {},
     "output_type": "execute_result"
    }
   ],
   "source": [
    "model_tuned.best_estimator_"
   ]
  }
 ],
 "metadata": {
  "kernelspec": {
   "display_name": "Python 3",
   "language": "python",
   "name": "python3"
  },
  "language_info": {
   "codemirror_mode": {
    "name": "ipython",
    "version": 3
   },
   "file_extension": ".py",
   "mimetype": "text/x-python",
   "name": "python",
   "nbconvert_exporter": "python",
   "pygments_lexer": "ipython3",
   "version": "3.7.4"
  }
 },
 "nbformat": 4,
 "nbformat_minor": 1
}
